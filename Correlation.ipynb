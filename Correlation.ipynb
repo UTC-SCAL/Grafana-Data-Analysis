{
 "cells": [
  {
   "cell_type": "code",
   "execution_count": 43,
   "metadata": {},
   "outputs": [],
   "source": [
    "import pandas as pd\n",
    "import time\n",
    "import datetime\n",
    "import numpy as np\n",
    "import matplotlib.pyplot as plt"
   ]
  },
  {
   "cell_type": "code",
   "execution_count": 16,
   "metadata": {},
   "outputs": [],
   "source": [
    "pd.set_option('display.float_format', lambda x: '%.5f' % x)"
   ]
  },
  {
   "cell_type": "code",
   "execution_count": 52,
   "metadata": {},
   "outputs": [],
   "source": [
    "def convert_time(str_time):\n",
    "    return str_time.split(\" \")[1][:2]\n",
    "    # return time.mktime(datetime.datetime.strptime(str_time, \"%Y-%m-%d %H:%M:%S\").timetuple())"
   ]
  },
  {
   "cell_type": "code",
   "execution_count": 58,
   "metadata": {},
   "outputs": [],
   "source": [
    "def first_cleansing_step(data):\n",
    "    data['Time'] = data['Time'].apply(convert_time)\n",
    "    return data"
   ]
  },
  {
   "cell_type": "code",
   "execution_count": 54,
   "metadata": {},
   "outputs": [],
   "source": [
    "def correlation_series(X, Y):\n",
    "    X_mean = np.mean(X)\n",
    "    X_std = np.std(X)\n",
    "    Y_mean = np.mean(Y)\n",
    "    Y_std = np.std(Y)\n",
    "    return [(x - X_mean) * (y - Y_mean) / (X_std * Y_std) for x,y in zip(X,Y)]"
   ]
  },
  {
   "cell_type": "code",
   "execution_count": 55,
   "metadata": {},
   "outputs": [
    {
     "name": "stdout",
     "output_type": "stream",
     "text": [
      "Index(['Time', 'mlk-peeples', 'mlk-magnolia', 'mlk-lindsay', 'mlk-houston',\n",
      "       'mlk-georgia', 'mlk-douglas', 'mlk-central'],\n",
      "      dtype='object')\n"
     ]
    }
   ],
   "source": [
    "traffic_data = pd.read_csv(\"traffic.csv\", sep=\";\")\n",
    "pollution_data = pd.read_csv(\"pollution.csv\", sep=\";\")\n",
    "traffic_data = first_cleansing_step(traffic_data)\n",
    "pollution_data = first_cleansing_step(pollution_data)\n",
    "print(pollution_data.columns)"
   ]
  },
  {
   "cell_type": "code",
   "execution_count": 56,
   "metadata": {},
   "outputs": [
    {
     "data": {
      "text/plain": [
       "Index(['Time', 'mlk-georgia-cam-3', 'mlk-georgia-cam-1', 'mlk-houston-cam-1',\n",
       "       'mlk-lindsay-cam-2', 'mlk-douglas-cam-1', 'mlk-central-cam-2',\n",
       "       'mlk-peeples-cam-3', 'mlk-douglas-cam-2', 'mlk-peeples-cam-1',\n",
       "       'mlk-magnolia-cam-2'],\n",
       "      dtype='object')"
      ]
     },
     "execution_count": 56,
     "metadata": {},
     "output_type": "execute_result"
    }
   ],
   "source": [
    "traffic_data.columns"
   ]
  },
  {
   "cell_type": "code",
   "execution_count": 70,
   "metadata": {},
   "outputs": [
    {
     "data": {
      "image/png": "[encoded data removed]",
      "text/plain": [
       "<Figure size 432x288 with 1 Axes>"
      ]
     },
     "metadata": {
      "needs_background": "light"
     },
     "output_type": "display_data"
    }
   ],
   "source": [
    "def plot_histogram(times, y):\n",
    "    times_dict = dict()\n",
    "    for time, element in zip(times, y):\n",
    "        if time not in times_dict:\n",
    "            times_dict[time] = (0,0)\n",
    "        N =  times_dict[time][1]\n",
    "        times_dict[time] = ((times_dict[time][0]*N)/(N+1) + element, N+1) \n",
    "    bins = times_dict.keys()\n",
    "    values = [times_dict[item][0] for item in bins]\n",
    "    plt.bar(list(bins), values, align='center')\n",
    "\n",
    "corr = correlation_series(pollution_data[\"mlk-peeples\"], traffic_data['mlk-peeples-cam-3'])   \n",
    "plot_histogram(traffic_data['Time'], corr)"
   ]
  },
  {
   "cell_type": "code",
   "execution_count": 71,
   "metadata": {},
   "outputs": [
    {
     "data": {
      "image/png": "[encoded data removed]",
      "text/plain": [
       "<Figure size 432x288 with 1 Axes>"
      ]
     },
     "metadata": {
      "needs_background": "light"
     },
     "output_type": "display_data"
    }
   ],
   "source": [
    "corr = correlation_series(pollution_data['mlk-douglas'], traffic_data['mlk-douglas-cam-1'])\n",
    "plot_histogram(traffic_data['Time'], corr)"
   ]
  },
  {
   "cell_type": "code",
   "execution_count": null,
   "metadata": {},
   "outputs": [],
   "source": []
  }
 ],
 "metadata": {
  "kernelspec": {
   "display_name": "Python 3",
   "language": "python",
   "name": "python3"
  },
  "language_info": {
   "codemirror_mode": {
    "name": "ipython",
    "version": 3
   },
   "file_extension": ".py",
   "mimetype": "text/x-python",
   "name": "python",
   "nbconvert_exporter": "python",
   "pygments_lexer": "ipython3",
   "version": "3.7.1"
  }
 },
 "nbformat": 4,
 "nbformat_minor": 2
}
